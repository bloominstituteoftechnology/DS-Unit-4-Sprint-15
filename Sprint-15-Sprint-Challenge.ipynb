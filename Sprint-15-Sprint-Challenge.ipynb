{
 "cells": [
  {
   "cell_type": "markdown",
   "source": [
    "# Large Language Model Challenge: LLM StoryBot\n",
    "\n",
    "## Data Science Sprint 15 Challenge\n",
    "\n",
    "### Challenge Objectives 🧾\n",
    "\n",
    "You should be able to...\n",
    "\n",
    "1. Implement an LLM (either local or API based)\n",
    "2. Customize the behavior of an LLM\n",
    "3. Use a custom LLM in your terminal\n",
    "\n",
    "You may use any Python libraries that can be installed via pip, including the Python standard library. Please do not use any websites like ChatGPT to write your stories, you are welcome use them to help write the code for your custom model though! Pro Tip: ask them to act as teachers to help you learn rather than just getting them to write the code for you."
   ],
   "metadata": {
    "collapsed": false
   }
  },
  {
   "cell_type": "markdown",
   "source": [
    "### Part 1 - Choose an LLM Model 🔍\n",
    "\n",
    "The easy choice here is OpenAi's API version of GPT, but requires a paid account. If you want a higher level challenge - choose an open source model that runs locally. GPT not only is easier to set up, but it also performs better than open source models. However, you will learn way more if you implement a local opensource model."
   ],
   "metadata": {
    "collapsed": false
   }
  },
  {
   "cell_type": "markdown",
   "source": [
    "### Part 2 - Implement an LLM Model as a Brilliant Storyteller Bot 🤖\n",
    "\n",
    "Design an LLM that acts like a brilliant storyteller. The challenge is to design it such that, it generates a story based on user input. The stories should be about 1000 words in length or longer.\n",
    "\n",
    "Be mindful of the context window of the model you choose, the (system_prompt + user_prompt + output) needs to fit inside one context window. See the documentation for the model you're using for more details. Pro Tip: choose a model with good documentation! 😏"
   ],
   "metadata": {
    "collapsed": false
   }
  },
  {
   "cell_type": "code",
   "execution_count": null,
   "outputs": [],
   "source": [
    "class StoryBot:\n",
    "\n",
    "    def __call__(self, user_prompt: str) -> str:\n",
    "        pass\n"
   ],
   "metadata": {
    "collapsed": false
   }
  },
  {
   "cell_type": "markdown",
   "source": [
    "### Part 3 - StoryBot Testing 🧪\n",
    "\n",
    "Have your bot write a few stories and evaluate them. Are there alterations that can be made to the model's parameters to improve the results?"
   ],
   "metadata": {
    "collapsed": false
   }
  },
  {
   "cell_type": "code",
   "execution_count": null,
   "outputs": [],
   "source": [
    "story_bot = StoryBot()\n",
    "story_bot()"
   ],
   "metadata": {
    "collapsed": false
   }
  },
  {
   "cell_type": "markdown",
   "source": [
    "### Part 4 - Story Submission 📜\n",
    "\n",
    "Have your bot generate at least 3 stories and choose your favorite, this will be uploaded for evaluation. The story should be 1000 words or more and be purely AI generated, please do not edit the story in any way.\n",
    "\n",
    "#### Stretch Goals (Optional) 🏄\n",
    "\n",
    "- Have the call method of the bot output a story as a txt file rather than printing to the terminal, so you don't need to copy/paste for submission.\n",
    "- Give your bot a distinct personality on top of its ability to write captivating stories.\n",
    "- Implement a memory module for your bot. This would give you the ability to have it do multiple revisions of the same story based on your input.\n",
    "- Implement an API (Flask or FastAPI) to interact with your bot."
   ],
   "metadata": {
    "collapsed": false
   }
  },
  {
   "cell_type": "markdown",
   "source": [
    "### Congratulations! 🥳\n",
    "\n",
    "Thank you for your hard work, and congratulations!!! You've learned a lot, and you should proudly call yourself a Data Scientist.\n"
   ],
   "metadata": {
    "collapsed": false
   }
  }
 ],
 "metadata": {
  "kernelspec": {
   "display_name": "Python 3",
   "language": "python",
   "name": "python3"
  },
  "language_info": {
   "codemirror_mode": {
    "name": "ipython",
    "version": 2
   },
   "file_extension": ".py",
   "mimetype": "text/x-python",
   "name": "python",
   "nbconvert_exporter": "python",
   "pygments_lexer": "ipython2",
   "version": "2.7.6"
  }
 },
 "nbformat": 4,
 "nbformat_minor": 0
}
